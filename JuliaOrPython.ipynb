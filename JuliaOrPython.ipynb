{
 "cells": [
  {
   "cell_type": "markdown",
   "id": "630ec51d",
   "metadata": {},
   "source": [
    "# MATLAB不是Julia的目標\n",
    "\n",
    "[Why we created Julia](https://julialang.org/blog/2012/02/why-we-created-julia/)\n",
    "\n",
    "「我們想開發一種開源的編程語言，我們希望這門語言有 C 語言一樣的速度、R 語言一樣的靈活性，有同像性（homoiconicity）, 有像 Lisp 語言那樣擁有真正的宏（macro）特性，但是也像 Matlab 一樣有易於理解、被人所熟悉的數學標記。我們希望它像 Python 一樣易用，像 R 語言一樣適用於統計，像 Perl 一樣適用於字符串處理，處理線性代數像 Matlab 一樣強大，像 DOS 命令一樣擅長黏合程序。我們希望她簡單易學但又能讓最嚴肅的黑客開心，具有互動性且能夠被編譯」\n",
    "\n",
    "## 值得注意的應用\n",
    "![](image/juliaorg.png)\n",
    "\n",
    "https://juliacomputing.com/\n",
    "\n"
   ]
  },
  {
   "cell_type": "code",
   "execution_count": null,
   "id": "70b50f6f",
   "metadata": {},
   "outputs": [],
   "source": []
  }
 ],
 "metadata": {
  "kernelspec": {
   "display_name": "Julia 1.6.4",
   "language": "julia",
   "name": "julia-1.6"
  },
  "language_info": {
   "file_extension": ".jl",
   "mimetype": "application/julia",
   "name": "julia",
   "version": "1.6.4"
  },
  "toc": {
   "base_numbering": 1,
   "nav_menu": {},
   "number_sections": true,
   "sideBar": true,
   "skip_h1_title": false,
   "title_cell": "Table of Contents",
   "title_sidebar": "Contents",
   "toc_cell": false,
   "toc_position": {},
   "toc_section_display": true,
   "toc_window_display": false
  }
 },
 "nbformat": 4,
 "nbformat_minor": 5
}
