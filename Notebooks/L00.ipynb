{
 "cells": [
  {
   "cell_type": "markdown",
   "id": "ccc00b9f",
   "metadata": {},
   "source": [
    "\n",
    "# Install Jupyter lab without anaconda\n",
    "\n",
    "## Install julia and IJulia\n",
    "Install julia:\n",
    "- Go to the official website to download the Long-term support release (e.g. [`julia-1.6.4-win64.exe`](https://julialang-s3.julialang.org/bin/winnt/x64/1.6/julia-1.6.4-win64.exe)) and run.\n",
    "- In installation dialog, check the \"Add julia to PATH\" option. \n",
    "\n",
    "Install IJulia (which is essential for jupyter notebook)\n",
    "- Run julia, switch to the package mode and `add IJulia`\n",
    "- `(@v1.6) pkg> add IJulia` or `julia> using Pkg; Pkg.add(\"IJulia\")` do exactly the same job.\n",
    "> 💡Hint: \n",
    "> In julia REPL, \n",
    "> - Press `]` to switch to package mode (e.g. `julia>` ➡️ `(@v1.6) pkg>`)\n",
    "> - Press `Backspace` to switch to back to coding mode (e.g.  `(@v1.6) pkg>` ➡️ `julia>` )"
   ]
  },
  {
   "cell_type": "markdown",
   "id": "df894f5f",
   "metadata": {},
   "source": [
    "## Install `Conda` and configuring Julia to work with JupyterLab\n",
    "Also see [this](https://subscription.packtpub.com/book/application_development/9781788998369/1/ch01lvl1sec23/configuring-julia-to-work-with-jupyterlab).\n",
    "```julia\n",
    "using Pkg\n",
    "Pkg.add(\"Conda\");\n",
    "Pkg.build(\"Conda\"); # required otherwise error will occur while using Conda\n",
    "using Conda\n",
    "Conda.add(\"jupyterlab\"); # automatically download and install miniconda\n",
    "```\n",
    "\n",
    "Every time you want to initiate jupyter notebook, run julia REPL and\n",
    "```julia\n",
    "using IJulia; \n",
    "notebook() # open jupyter notebook\n",
    "```\n",
    "\n",
    "Similar to whom use Anaconda, add the following to PATH if you want to use the installed `jupyter` or `jupyter lab` in CMD.\n",
    "- `C:\\Users\\USERNAME\\.julia\\conda\\3\\Scripts` \n",
    "- `C:\\Users\\USERNAME\\.julia\\conda\\3\\Library\\bin`\n",
    "- `C:\\Users\\USERNAME\\.julia\\conda\\3`"
   ]
  },
  {
   "cell_type": "markdown",
   "id": "2ecf7ab2",
   "metadata": {},
   "source": [
    "## Change Jupyter start-up folder\n",
    "Please refer to [this](https://stackoverflow.com/questions/35254852/how-to-change-the-jupyter-start-up-folder).\n"
   ]
  }
 ],
 "metadata": {
  "kernelspec": {
   "display_name": "Julia 1.6.1",
   "language": "julia",
   "name": "julia-1.6"
  },
  "language_info": {
   "file_extension": ".jl",
   "mimetype": "application/julia",
   "name": "julia",
   "version": "1.6.1"
  },
  "toc": {
   "base_numbering": 1,
   "nav_menu": {},
   "number_sections": true,
   "sideBar": true,
   "skip_h1_title": false,
   "title_cell": "Table of Contents",
   "title_sidebar": "Contents",
   "toc_cell": false,
   "toc_position": {},
   "toc_section_display": true,
   "toc_window_display": false
  }
 },
 "nbformat": 4,
 "nbformat_minor": 5
}
