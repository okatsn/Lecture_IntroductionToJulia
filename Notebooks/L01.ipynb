{
 "cells": [
  {
   "cell_type": "markdown",
   "id": "c8911b8c",
   "metadata": {
    "toc": true
   },
   "source": [
    "<h1>Table of Contents<span class=\"tocSkip\"></span></h1>\n",
    "<div class=\"toc\"><ul class=\"toc-item\"><li><span><a href=\"#為何使用julia?\" data-toc-modified-id=\"為何使用julia?-1\">為何使用julia?</a></span><ul class=\"toc-item\"><li><span><a href=\"#背景簡介(開發、目前運作)\" data-toc-modified-id=\"背景簡介(開發、目前運作)-1.1\">背景簡介(開發、目前運作)</a></span></li><li><span><a href=\"#優勢\" data-toc-modified-id=\"優勢-1.2\">優勢</a></span></li><li><span><a href=\"#劣勢\" data-toc-modified-id=\"劣勢-1.3\">劣勢</a></span></li><li><span><a href=\"#遇到問題?\" data-toc-modified-id=\"遇到問題?-1.4\">遇到問題?</a></span></li><li><span><a href=\"#The-speed-of-julia\" data-toc-modified-id=\"The-speed-of-julia-1.5\">The speed of julia</a></span></li></ul></li><li><span><a href=\"#Julia-函式-(Functions)\" data-toc-modified-id=\"Julia-函式-(Functions)-2\">Julia 函式 (Functions)</a></span><ul class=\"toc-item\"><li><span><a href=\"#函式的變數作用域-(Scope-of-Variable)\" data-toc-modified-id=\"函式的變數作用域-(Scope-of-Variable)-2.1\">函式的變數作用域 (Scope of Variable)</a></span></li><li><span><a href=\"#多重分派-(Multiple-dispatch)\" data-toc-modified-id=\"多重分派-(Multiple-dispatch)-2.2\">多重分派 (Multiple dispatch)</a></span></li><li><span><a href=\"#從實例認識多重分派：\" data-toc-modified-id=\"從實例認識多重分派：-2.3\">從實例認識多重分派：</a></span></li><li><span><a href=\"#從-julia-內建的乘法看多重分派\" data-toc-modified-id=\"從-julia-內建的乘法看多重分派-2.4\">從 julia 內建的乘法看多重分派</a></span><ul class=\"toc-item\"><li><span><a href=\"#擴充乘法\" data-toc-modified-id=\"擴充乘法-2.4.1\">擴充乘法</a></span></li></ul></li></ul></li><li><span><a href=\"#常用型別系統\" data-toc-modified-id=\"常用型別系統-3\">常用型別系統</a></span></li><li><span><a href=\"#符號、字串與字元\" data-toc-modified-id=\"符號、字串與字元-4\">符號、字串與字元</a></span></li><li><span><a href=\"#慣例\" data-toc-modified-id=\"慣例-5\">慣例</a></span><ul class=\"toc-item\"><li><span><a href=\"#範例-–-結尾有驚嘆號的函式\" data-toc-modified-id=\"範例-–-結尾有驚嘆號的函式-5.1\">範例 – 結尾有驚嘆號的函式</a></span></li><li><span><a href=\"#範例-–-命名規則\" data-toc-modified-id=\"範例-–-命名規則-5.2\">範例 – 命名規則</a></span><ul class=\"toc-item\"><li><span><a href=\"#舉一反三\" data-toc-modified-id=\"舉一反三-5.2.1\">舉一反三</a></span></li></ul></li></ul></li><li><span><a href=\"#容器\" data-toc-modified-id=\"容器-6\">容器</a></span><ul class=\"toc-item\"><li><span><a href=\"#陣列-(Array)\" data-toc-modified-id=\"陣列-(Array)-6.1\">陣列 (Array)</a></span></li><li><span><a href=\"#集合-(Collection)\" data-toc-modified-id=\"集合-(Collection)-6.2\">集合 (Collection)</a></span><ul class=\"toc-item\"><li><span><a href=\"#數組-(Tuple)\" data-toc-modified-id=\"數組-(Tuple)-6.2.1\">數組 (Tuple)</a></span></li><li><span><a href=\"#配對(Pair)\" data-toc-modified-id=\"配對(Pair)-6.2.2\">配對(Pair)</a></span></li><li><span><a href=\"#字典(Dict)\" data-toc-modified-id=\"字典(Dict)-6.2.3\">字典(Dict)</a></span><ul class=\"toc-item\"><li><span><a href=\"#關於字典的常用方法\" data-toc-modified-id=\"關於字典的常用方法-6.2.3.1\">關於字典的常用方法</a></span></li></ul></li><li><span><a href=\"#集合(Set)\" data-toc-modified-id=\"集合(Set)-6.2.4\">集合(Set)</a></span><ul class=\"toc-item\"><li><span><a href=\"#關於Set的常用方法\" data-toc-modified-id=\"關於Set的常用方法-6.2.4.1\">關於Set的常用方法</a></span></li></ul></li></ul></li></ul></li><li><span><a href=\"#條件與迴圈\" data-toc-modified-id=\"條件與迴圈-7\">條件與迴圈</a></span><ul class=\"toc-item\"><li><span><a href=\"#條件\" data-toc-modified-id=\"條件-7.1\">條件</a></span></li><li><span><a href=\"#迴圈\" data-toc-modified-id=\"迴圈-7.2\">迴圈</a></span><ul class=\"toc-item\"><li><span><a href=\"#預分配(preallocate)\" data-toc-modified-id=\"預分配(preallocate)-7.2.1\">預分配(preallocate)</a></span></li></ul></li></ul></li><li><span><a href=\"#操作子\" data-toc-modified-id=\"操作子-8\">操作子</a></span></li><li><span><a href=\"#點運算\" data-toc-modified-id=\"點運算-9\">點運算</a></span></li><li><span><a href=\"#小結\" data-toc-modified-id=\"小結-10\">小結</a></span><ul class=\"toc-item\"><li><span><a href=\"#相較於MATLAB，Julia在使用上更須遵守規則，但也更自由\" data-toc-modified-id=\"相較於MATLAB，Julia在使用上更須遵守規則，但也更自由-10.1\">相較於MATLAB，Julia在使用上更須遵守規則，但也更自由</a></span></li></ul></li><li><span><a href=\"#作業\" data-toc-modified-id=\"作業-11\">作業</a></span></li></ul></div>"
   ]
  },
  {
   "cell_type": "code",
   "execution_count": 1,
   "id": "62e5e6f4",
   "metadata": {},
   "outputs": [],
   "source": [
    "using Pkg\n",
    "Pkg.activate(mktempdir());"
   ]
  },
  {
   "cell_type": "code",
   "execution_count": 2,
   "id": "6d91e657",
   "metadata": {},
   "outputs": [],
   "source": [
    "Pkg.add([\"DataFrames\"])"
   ]
  },
  {
   "cell_type": "markdown",
   "id": "1e430882-bf41-4278-9217-594a6d4e28d1",
   "metadata": {
    "slideshow": {
     "slide_type": "slide"
    },
    "tags": []
   },
   "source": [
    "# 為何使用julia?\n",
    "## 背景簡介(開發、目前運作)\n",
    "## 優勢\n",
    "- **Walks like python, runs like C**\n",
    "- 科學與數學計算方面的工具相當豐富齊全\n",
    "- 遵循簡單邏輯即能寫出高效程式碼\n",
    "\n",
    "## 劣勢\n",
    "- 社群小、資產少 (相對於python)\n",
    "- 編譯時間長；在自動化腳本、網頁開發方面python會是較好的選擇\n",
    "- 你的同事沒有在用\n",
    "\n",
    "## 遇到問題?\n",
    "Google \n",
    "- matlab _AMatlabKeyword_ julia (e.g., \"matlab ismember function julia\")\n",
    "- python _APythonKeyword_ julia (e.g., \"python min max function julia\")"
   ]
  },
  {
   "cell_type": "markdown",
   "id": "0ee8c0aa-15c4-48c7-93db-f51fc7e5a984",
   "metadata": {
    "slideshow": {
     "slide_type": "subslide"
    },
    "tags": []
   },
   "source": [
    "## The speed of julia\n",
    "![](https://github.com/okatsn/Lecture_IntroductionToJulia/raw/master/image/fig_JuliaSpeed.png)"
   ]
  },
  {
   "cell_type": "markdown",
   "id": "8a952655-7635-449b-900d-8f8053db8c4e",
   "metadata": {
    "slideshow": {
     "slide_type": "slide"
    },
    "tags": []
   },
   "source": [
    "# Julia 函式 (Functions)\n",
    "\n",
    "在官方文件裡裡面，對於函式的定義是：”函式是一個將數組 (tuple) 引數 (argument) 對照到回傳值的物件”。也就是說，呼叫時是用數組的型態把引數傳遞給函式，函式內的運算結果再透過回傳值傳回。\n",
    "\n",
    "我們可以透過函式的定義，將相同模式的動作或邏輯，抽象化提取出來成為可以重覆被呼叫使用的模塊。\n",
    "\n",
    "可由以下方式建立函式：\n",
    "```julia\n",
    "function f(x, y)\n",
    "    x + y # 函式預設回傳最後一個執行的結果\n",
    "end\n",
    "```\n",
    "或\n",
    "```julia\n",
    "f(x, y) = x + y\n",
    "```\n",
    "\n",
    "也可使用匿名的方式建立(相當於matlab 的function handle: `f = @(x, y) x + y` )([More info](https://docs.julialang.org/en/v1/manual/functions/#man-anonymous-functions)):\n",
    "```julia\n",
    "f = (x, y) -> x + y\n",
    "```"
   ]
  },
  {
   "cell_type": "code",
   "execution_count": 3,
   "id": "8f01cd69-3030-43eb-ba02-10bd325a67ef",
   "metadata": {},
   "outputs": [
    {
     "data": {
      "text/plain": [
       "5"
      ]
     },
     "execution_count": 3,
     "metadata": {},
     "output_type": "execute_result"
    }
   ],
   "source": [
    "f(x, y) = x + y;\n",
    "f(3, 2)"
   ]
  },
  {
   "cell_type": "markdown",
   "id": "f9237907",
   "metadata": {},
   "source": [
    "julia 的函式都可以直接作為變數傳遞至其他函式："
   ]
  },
  {
   "cell_type": "code",
   "execution_count": 4,
   "id": "670eee23",
   "metadata": {},
   "outputs": [
    {
     "data": {
      "text/plain": [
       "4"
      ]
     },
     "execution_count": 4,
     "metadata": {},
     "output_type": "execute_result"
    }
   ],
   "source": [
    "f(x) = x^2 + 2x + 1;\n",
    "f(1)"
   ]
  },
  {
   "cell_type": "code",
   "execution_count": 5,
   "id": "d2e9aad6",
   "metadata": {},
   "outputs": [
    {
     "data": {
      "text/plain": [
       "12"
      ]
     },
     "execution_count": 5,
     "metadata": {},
     "output_type": "execute_result"
    }
   ],
   "source": [
    "g(x, f) = 3*f(x);\n",
    "g(1, f)"
   ]
  },
  {
   "cell_type": "markdown",
   "id": "29f0accd-25fc-4091-b4d1-6b8919b39a75",
   "metadata": {
    "slideshow": {
     "slide_type": "slide"
    },
    "tags": []
   },
   "source": [
    "## 函式的變數作用域 (Scope of Variable)\n",
    "變數作用域 (Scope of Variable)指的是變數可以被\"看到\"的執行層面。\n",
    "[官方文件之詳細說明](https://docs.julialang.org/en/v1/manual/variables-and-scoping/index.html)。\n",
    "函式的變數作用域跟 `for ... end` 迴圈很類似，在 `function ... end` 區塊中才第一次被創建的變數，在區塊外面都不會被\"看到\"。\n"
   ]
  },
  {
   "cell_type": "code",
   "execution_count": 6,
   "id": "62733e79-5fdb-465e-8d07-3b3963647714",
   "metadata": {},
   "outputs": [
    {
     "data": {
      "text/plain": [
       "12.8"
      ]
     },
     "execution_count": 6,
     "metadata": {},
     "output_type": "execute_result"
    }
   ],
   "source": [
    "a = 2;\n",
    "b = 3;\n",
    "function add_abcd(c,d)\n",
    "    e = 7; \n",
    "    return a + b + c + d + e;\n",
    "end\n",
    "add_abcd(0.5,0.3)"
   ]
  },
  {
   "cell_type": "code",
   "execution_count": 7,
   "id": "3adaf849",
   "metadata": {
    "scrolled": true
   },
   "outputs": [
    {
     "ename": "LoadError",
     "evalue": "UndefVarError: e not defined",
     "output_type": "error",
     "traceback": [
      "UndefVarError: e not defined",
      "",
      "Stacktrace:",
      " [1] top-level scope",
      "   @ :0",
      " [2] eval",
      "   @ .\\boot.jl:360 [inlined]",
      " [3] include_string(mapexpr::typeof(REPL.softscope), mod::Module, code::String, filename::String)",
      "   @ Base .\\loading.jl:1094"
     ]
    }
   ],
   "source": [
    "e"
   ]
  },
  {
   "cell_type": "markdown",
   "id": "88bc56d3-eddd-4cb7-bee8-51daadd2eb8e",
   "metadata": {
    "slideshow": {
     "slide_type": "slide"
    },
    "tags": []
   },
   "source": [
    "## 多重分派 (Multiple dispatch)\n",
    "\n",
    "julia 的多重分派讓使用者只需遵循簡單的邏輯就能寫出高效率的程式碼。\n",
    "julia 語言允許同 scope 下出現**複數個同名函式**；多重分派指的是根據輸入引數的數量和型別的不同，自動分派到不同方法進行計算；換句話說，就是根據輸入物件來指派執行的方法。\n",
    "\n",
    "另一方面， 在單一分派的物件導向程式設計中(例如python matlab)，我們會將函式(function)歸類到某個類別(class)底下的方法(method)。 以下是 python的範例程式碼：\n",
    "```python\n",
    "# 定義型別\n",
    "class Foo:\n",
    "    def abc(self, x):\n",
    "        return str(x)\n",
    "\n",
    "class Bar:\n",
    "    def abc(self, x):\n",
    "        return int(x)\n",
    "\n",
    "# 建立屬於某型別的物件\n",
    "foo = Foo()\n",
    "bar = Bar()\n",
    "\n",
    "# 呼叫函式：\n",
    "foo.abc(1) # 回傳字串\"1\"\n",
    "bar.abc(1) # 回傳整數 1 \n",
    "```\n",
    "\n",
    "> [For more information, see this](https://yuehhua.github.io/2020/04/01/julia-multiple-dispatch/)\n",
    "\n",
    "在 matlab (或python)中如果我們想達到類似多重分派的效果，需要使用判斷式才能達成:  \n",
    "```matlab\n",
    "% a matlab example\n",
    "function abc(varargin)\n",
    "if nargin == 1 # 判斷引數數量\n",
    "    if  ischar(varargin{1}) # 判斷引數型別\n",
    "        ...\n",
    "    end\n",
    "else if nargin > 1 \n",
    "    ... \n",
    "    ... \n",
    "else if \n",
    "    ... \n",
    "else \n",
    "    ...\n",
    "end\n",
    "```\n",
    "使得根據不同引數而進行的不同計算方法(例如 `abc(x), abc(str, x), ...`)能夠被實現。"
   ]
  },
  {
   "cell_type": "markdown",
   "id": "52c61782-496e-4ffa-b091-45507a0a8751",
   "metadata": {
    "slideshow": {
     "slide_type": "slide"
    },
    "tags": []
   },
   "source": [
    "## 從實例認識多重分派：\n",
    "$$\n",
    "\\underbrace{切割}_{方法}\\underbrace{木頭}_{物件}\n",
    "$$\n",
    "\n",
    "建立一個🪵(木頭)的型別"
   ]
  },
  {
   "cell_type": "code",
   "execution_count": 8,
   "id": "38130f18-c3bc-421e-8234-3ce2d1e998b6",
   "metadata": {},
   "outputs": [],
   "source": [
    "mutable struct 🪵 # 型別: 木頭\n",
    "\tA::Float64 # 截面積\n",
    "\tL::Float64 # 長度\n",
    "end"
   ]
  },
  {
   "cell_type": "markdown",
   "id": "788b9b83-a31e-4216-93fd-218111e82ff8",
   "metadata": {},
   "source": [
    "建立一個其型別屬於🪵的物件實體："
   ]
  },
  {
   "cell_type": "code",
   "execution_count": 9,
   "id": "91c2ae00-8dad-442d-ac4c-cdeee066348f",
   "metadata": {},
   "outputs": [
    {
     "data": {
      "text/plain": [
       "🪵(5.0, 70.0)"
      ]
     },
     "execution_count": 9,
     "metadata": {},
     "output_type": "execute_result"
    }
   ],
   "source": [
    "wood1 = 🪵(5, 70) # 透過預設的內部建構子(inner-constructor)建立物件"
   ]
  },
  {
   "cell_type": "markdown",
   "id": "2850a682-d9aa-47e1-8662-b6a6039b2dc5",
   "metadata": {},
   "source": [
    "創建一個方法🪓把木頭🪵砍半："
   ]
  },
  {
   "cell_type": "code",
   "execution_count": 10,
   "id": "9be1277c-4cbe-4e30-a58e-1a6404582255",
   "metadata": {},
   "outputs": [
    {
     "data": {
      "text/plain": [
       "🪓 (generic function with 1 method)"
      ]
     },
     "execution_count": 10,
     "metadata": {},
     "output_type": "execute_result"
    }
   ],
   "source": [
    "function 🪓(w::🪵)\n",
    "# (:: is type assertion. For example, A::Float64 returns nothing if A is a floating number of 64bit; otherwise, an error will be raised.)\n",
    "\tw.L=w.L/2\n",
    "\t[w, w]\n",
    "end"
   ]
  },
  {
   "cell_type": "code",
   "execution_count": 11,
   "id": "8488edbc-7629-4f14-8f4d-d6b61f811bc6",
   "metadata": {},
   "outputs": [
    {
     "data": {
      "text/plain": [
       "2-element Vector{🪵}:\n",
       " 🪵(5.0, 35.0)\n",
       " 🪵(5.0, 35.0)"
      ]
     },
     "execution_count": 11,
     "metadata": {},
     "output_type": "execute_result"
    }
   ],
   "source": [
    "🪓(wood1)"
   ]
  },
  {
   "cell_type": "code",
   "execution_count": 12,
   "id": "dbe0a20a",
   "metadata": {},
   "outputs": [
    {
     "data": {
      "text/plain": [
       "🪵(5.0, 35.0)"
      ]
     },
     "execution_count": 12,
     "metadata": {},
     "output_type": "execute_result"
    }
   ],
   "source": [
    "wood1"
   ]
  },
  {
   "cell_type": "markdown",
   "id": "92aca297-d0b0-4b15-a834-f6dd83cc962a",
   "metadata": {},
   "source": [
    "如果我想把木頭切成n等分? "
   ]
  },
  {
   "cell_type": "code",
   "execution_count": 13,
   "id": "cbe6fae1-b1d1-4b2c-9397-48479b6b1cea",
   "metadata": {},
   "outputs": [
    {
     "data": {
      "text/plain": [
       "🪓 (generic function with 2 methods)"
      ]
     },
     "execution_count": 13,
     "metadata": {},
     "output_type": "execute_result"
    }
   ],
   "source": [
    "function 🪓(w::🪵, n)\n",
    "\tw.L=w.L/n;\n",
    "\tfill(w, n) # 創建一個 [w, w, w, ... , w] 共 n 個元素的向量\n",
    "end"
   ]
  },
  {
   "cell_type": "code",
   "execution_count": 14,
   "id": "99ee3b76-b044-44a4-9be8-a0fdc9eec307",
   "metadata": {},
   "outputs": [
    {
     "data": {
      "text/plain": [
       "5-element Vector{🪵}:\n",
       " 🪵(5.0, 14.0)\n",
       " 🪵(5.0, 14.0)\n",
       " 🪵(5.0, 14.0)\n",
       " 🪵(5.0, 14.0)\n",
       " 🪵(5.0, 14.0)"
      ]
     },
     "execution_count": 14,
     "metadata": {},
     "output_type": "execute_result"
    }
   ],
   "source": [
    "wood2 = 🪵(5, 70)\n",
    "🪓(wood2, 5)"
   ]
  },
  {
   "cell_type": "markdown",
   "id": "75010159-d1af-4a9b-8a5d-2d89b1ab5f2b",
   "metadata": {},
   "source": [
    "🪓還可以拿來砍別的東西吧? 如果我想要把一個向量砍半的話..."
   ]
  },
  {
   "cell_type": "code",
   "execution_count": 15,
   "id": "f1e4becc-2971-4e5e-bf6b-4caed7b66dbf",
   "metadata": {},
   "outputs": [
    {
     "data": {
      "text/plain": [
       "🪓 (generic function with 3 methods)"
      ]
     },
     "execution_count": 15,
     "metadata": {},
     "output_type": "execute_result"
    }
   ],
   "source": [
    "function 🪓(vec::Vector)\n",
    "\tlenv = length(vec); \n",
    "\tmid = Int(lenv/2); # \"中間\"定義為向量長度的一半向下取整數\n",
    "    return [vec[1:mid], vec[mid+1:end]]\n",
    "end"
   ]
  },
  {
   "cell_type": "code",
   "execution_count": 16,
   "id": "0bcb7495-b654-48ca-9061-38f0061bc7e4",
   "metadata": {},
   "outputs": [
    {
     "data": {
      "text/plain": [
       "2-element Vector{Vector{Int64}}:\n",
       " [1, 2, 3, 4, 5]\n",
       " [6, 7, 8, 9, 10]"
      ]
     },
     "execution_count": 16,
     "metadata": {},
     "output_type": "execute_result"
    }
   ],
   "source": [
    "v = [1,2,3,4,5,6,7,8,9,10];\n",
    "🪓(v)"
   ]
  },
  {
   "cell_type": "code",
   "execution_count": 17,
   "id": "0ddc689b-fd29-43ba-ae70-e44e40de23f3",
   "metadata": {},
   "outputs": [
    {
     "data": {
      "text/plain": [
       "2"
      ]
     },
     "execution_count": 17,
     "metadata": {},
     "output_type": "execute_result"
    }
   ],
   "source": [
    "1+1"
   ]
  },
  {
   "cell_type": "markdown",
   "id": "850602dd",
   "metadata": {},
   "source": [
    "用`methods`看一個函式有哪些方法:"
   ]
  },
  {
   "cell_type": "code",
   "execution_count": 18,
   "id": "591698a2",
   "metadata": {},
   "outputs": [
    {
     "data": {
      "text/html": [
       "# 3 methods for generic function <b>🪓</b>:<ul><li> 🪓(w::<b>🪵</b>) in Main at In[10]:1</li> <li> 🪓(w::<b>🪵</b>, n) in Main at In[13]:1</li> <li> 🪓(vec::<b>Vector{T} where T</b>) in Main at In[15]:1</li> </ul>"
      ],
      "text/plain": [
       "# 3 methods for generic function \"🪓\":\n",
       "[1] 🪓(w::🪵) in Main at In[10]:1\n",
       "[2] 🪓(w::🪵, n) in Main at In[13]:1\n",
       "[3] 🪓(vec::Vector{T} where T) in Main at In[15]:1"
      ]
     },
     "execution_count": 18,
     "metadata": {},
     "output_type": "execute_result"
    }
   ],
   "source": [
    "methods(🪓)"
   ]
  },
  {
   "cell_type": "markdown",
   "id": "07b904ef",
   "metadata": {
    "slideshow": {
     "slide_type": "slide"
    }
   },
   "source": [
    "## 從 julia 內建的乘法看多重分派"
   ]
  },
  {
   "cell_type": "markdown",
   "id": "87b2e0b2",
   "metadata": {},
   "source": [
    "實數乘法："
   ]
  },
  {
   "cell_type": "code",
   "execution_count": 19,
   "id": "78cc122d",
   "metadata": {},
   "outputs": [
    {
     "data": {
      "text/plain": [
       "6050"
      ]
     },
     "execution_count": 19,
     "metadata": {},
     "output_type": "execute_result"
    }
   ],
   "source": [
    "110*55"
   ]
  },
  {
   "cell_type": "markdown",
   "id": "318bc64f",
   "metadata": {},
   "source": [
    "虛數乘法："
   ]
  },
  {
   "cell_type": "code",
   "execution_count": 20,
   "id": "2551d011",
   "metadata": {},
   "outputs": [
    {
     "data": {
      "text/plain": [
       "0 + 2im"
      ]
     },
     "execution_count": 20,
     "metadata": {},
     "output_type": "execute_result"
    }
   ],
   "source": [
    "(1+1im)*(1+1im)"
   ]
  },
  {
   "cell_type": "markdown",
   "id": "fd05ddbb",
   "metadata": {},
   "source": [
    "矩陣乘法：\n",
    "\n",
    "$\n",
    "\\begin{pmatrix}\n",
    "1 & 2 \\\\\n",
    "3 & 4\n",
    "\\end{pmatrix} \\begin{pmatrix}\n",
    "3 & 1 \\\\\n",
    "0 & 2\n",
    "\\end{pmatrix} = \\begin{pmatrix}\n",
    "3 & 5 \\\\\n",
    "9 & 11\n",
    "\\end{pmatrix}\n",
    "$"
   ]
  },
  {
   "cell_type": "code",
   "execution_count": 21,
   "id": "9c52cc91",
   "metadata": {},
   "outputs": [
    {
     "data": {
      "text/plain": [
       "2×2 Matrix{Int64}:\n",
       " 3   5\n",
       " 9  11"
      ]
     },
     "execution_count": 21,
     "metadata": {},
     "output_type": "execute_result"
    }
   ],
   "source": [
    "[1 2; 3 4]*[3 1; 0 2]"
   ]
  },
  {
   "cell_type": "markdown",
   "id": "dab5194b",
   "metadata": {},
   "source": [
    "字串相乘?"
   ]
  },
  {
   "cell_type": "code",
   "execution_count": 22,
   "id": "cedc62d0",
   "metadata": {},
   "outputs": [
    {
     "data": {
      "text/plain": [
       "\"helloworld\""
      ]
     },
     "execution_count": 22,
     "metadata": {},
     "output_type": "execute_result"
    }
   ],
   "source": [
    "\"hello\"*\"world\""
   ]
  },
  {
   "cell_type": "markdown",
   "id": "d0e404a9",
   "metadata": {
    "slideshow": {
     "slide_type": "slide"
    }
   },
   "source": [
    "### 擴充乘法\n",
    "一般來說， `3*\"Hello\"` 是會報錯的，因為不存在方法支援整數(Int)與字串(String)的相乘:\n",
    "```julia:repl\n",
    "ERROR: MethodError: no method matching *(::Int64, ::String)\n",
    "```\n",
    "\n",
    "julia 的操作運算子也都是函式， 例如， `3*2` 其實也可以寫成 `*(3,2)`。\n",
    "julia 內建的函式都放在 Base 下面。\n",
    "利用多重分派， 我們可以新增乘法符號的新方法， 使得 `3*\"Hello\"` 得到 `\"HHHeeellllllooo\"`："
   ]
  },
  {
   "cell_type": "code",
   "execution_count": 23,
   "id": "63cf4aba",
   "metadata": {},
   "outputs": [],
   "source": [
    "function Base.:*(n::Integer, str::AbstractString) # :* 代表乘法(*)的符號，其類別是 Symbol\n",
    "\tstr1 = [];\n",
    "\tfor s in str\n",
    "        reps = join(fill(s,3)); # repeated s\n",
    "        push!(str1, reps)\n",
    "\tend\n",
    "\treturn string(str1...)\n",
    "end"
   ]
  },
  {
   "cell_type": "code",
   "execution_count": 24,
   "id": "5310c7c1",
   "metadata": {},
   "outputs": [
    {
     "data": {
      "text/plain": [
       "\"HHHeeellllllooo\""
      ]
     },
     "execution_count": 24,
     "metadata": {},
     "output_type": "execute_result"
    }
   ],
   "source": [
    "3*\"Hello\""
   ]
  },
  {
   "cell_type": "markdown",
   "id": "fb30ff22",
   "metadata": {
    "slideshow": {
     "slide_type": "slide"
    }
   },
   "source": [
    "# 常用型別系統\n",
    "<img src=\"image/julia_short_hierarchy.png\" width=\"520\" height=\"500\">\n",
    "\n",
    "抽象型別(Abstract type) \n",
    "- 無法被實例化(instaintiate)\n",
    "- 在撰寫泛用函式會用到，對函式的基本行為進行分派\n",
    "\n",
    "> 💡Hint: 用`supertype`和`subtypes` 可以看一個型別的父型別和子型別們"
   ]
  },
  {
   "cell_type": "markdown",
   "id": "61476b52",
   "metadata": {
    "slideshow": {
     "slide_type": "slide"
    }
   },
   "source": [
    "# 符號、字串與字元\n",
    "- 在 matlab 中，字元(char, 例如 `'ACertainString'`) 與字串 (String, 例如 `\"ACertainString\"`)在多數時候是可以互相替代的。\n",
    "- 在 julia 中，一般使用者最常用到的是字串(使用雙引號)；連續字元是不被允許的(例如，`'ACertainString'`會報錯)。"
   ]
  },
  {
   "cell_type": "markdown",
   "id": "c940b63b",
   "metadata": {},
   "source": [
    "在 julia 中，想要在字串中表達雙引號(`\"`)有兩種方式。第一種是使用跳脫字元(Escape Character)，例如："
   ]
  },
  {
   "cell_type": "code",
   "execution_count": 25,
   "id": "cd189b99",
   "metadata": {},
   "outputs": [
    {
     "name": "stdout",
     "output_type": "stream",
     "text": [
      "For what physical quantity does \"ShearVel\" represent?"
     ]
    }
   ],
   "source": [
    "print(\"For what physical quantity does \\\"ShearVel\\\" represent?\")"
   ]
  },
  {
   "cell_type": "markdown",
   "id": "02e1fda9",
   "metadata": {},
   "source": [
    "第二種是使用三連雙引號(triple double quotes)"
   ]
  },
  {
   "cell_type": "code",
   "execution_count": 26,
   "id": "f292a524",
   "metadata": {},
   "outputs": [
    {
     "name": "stdout",
     "output_type": "stream",
     "text": [
      "For what physical quantity does \"ShearVel\" represent?\n"
     ]
    }
   ],
   "source": [
    "print(\"\"\"\n",
    "For what physical quantity does \\\"ShearVel\\\" represent?\n",
    "\"\"\")"
   ]
  },
  {
   "cell_type": "markdown",
   "id": "c601b457",
   "metadata": {},
   "source": [
    "作為變數，兩者是相同的"
   ]
  },
  {
   "cell_type": "code",
   "execution_count": 27,
   "id": "c81c5a79",
   "metadata": {},
   "outputs": [
    {
     "data": {
      "text/plain": [
       "true"
      ]
     },
     "execution_count": 27,
     "metadata": {},
     "output_type": "execute_result"
    }
   ],
   "source": [
    "a = \"\"\"For what physical quantity does \\\"ShearVel\\\" represent?\"\"\";\n",
    "b = \"For what physical quantity does \\\"ShearVel\\\" represent?\"; \n",
    "a == b"
   ]
  },
  {
   "cell_type": "markdown",
   "id": "999bcfd4",
   "metadata": {
    "slideshow": {
     "slide_type": "slide"
    }
   },
   "source": [
    "# 慣例\n",
    "- 連續小寫：函式\n",
    "- 大駝峰式命名(upper camel case)：型別或模組(套件名)\n",
    "    - 範例(型別)：`DataFrame`\n",
    "    - 範例(模組)：`DataFrames`\n",
    "- 在會改變輸入的可變型別之函式名稱中，使用驚嘆號(！)\n",
    "\n",
    "是否照慣例做並不影響執行結果。但是，遵循基本慣例可以讓我們光靠閱讀程式碼的階段就可以大致理解程式碼在做什麼；不遵循慣例會造成不必要的麻煩，對所有人都沒好處。"
   ]
  },
  {
   "cell_type": "markdown",
   "id": "45af6a10",
   "metadata": {},
   "source": [
    "## 範例 – 結尾有驚嘆號的函式\n",
    "結尾有驚嘆號的函式提醒我們某一個輸入變數會直接被改變。"
   ]
  },
  {
   "cell_type": "code",
   "execution_count": 28,
   "id": "8c806c81",
   "metadata": {},
   "outputs": [],
   "source": [
    "v = [1,2,3]\n",
    "push!(v, 99);"
   ]
  },
  {
   "cell_type": "code",
   "execution_count": 29,
   "id": "1bfe69af",
   "metadata": {},
   "outputs": [
    {
     "data": {
      "text/plain": [
       "4-element Vector{Int64}:\n",
       "  1\n",
       "  2\n",
       "  3\n",
       " 99"
      ]
     },
     "execution_count": 29,
     "metadata": {},
     "output_type": "execute_result"
    }
   ],
   "source": [
    "v"
   ]
  },
  {
   "cell_type": "markdown",
   "id": "13ed11d7",
   "metadata": {},
   "source": [
    "剛剛的🪓函式因為會改變輸入物件🪵本身。故按照慣例，命名應該要加驚嘆號才是!\n",
    "```julia\n",
    "function 🪓!(...)\n",
    "    ...\n",
    "end\n",
    "```"
   ]
  },
  {
   "cell_type": "markdown",
   "id": "8b0e92ff",
   "metadata": {
    "slideshow": {
     "slide_type": "slide"
    }
   },
   "source": [
    "## 範例 – 命名規則\n",
    "DataFrame (型別或建構子) and DataFrames (套件)"
   ]
  },
  {
   "cell_type": "code",
   "execution_count": 30,
   "id": "78c0db4c",
   "metadata": {},
   "outputs": [
    {
     "data": {
      "text/html": [
       "<div class=\"data-frame\"><p>5 rows × 2 columns</p><table class=\"data-frame\"><thead><tr><th></th><th>Time</th><th>Y</th></tr><tr><th></th><th title=\"Int64\">Int64</th><th title=\"Int64\">Int64</th></tr></thead><tbody><tr><th>1</th><td>1</td><td>6</td></tr><tr><th>2</th><td>2</td><td>11</td></tr><tr><th>3</th><td>3</td><td>18</td></tr><tr><th>4</th><td>4</td><td>27</td></tr><tr><th>5</th><td>5</td><td>38</td></tr></tbody></table></div>"
      ],
      "text/latex": [
       "\\begin{tabular}{r|cc}\n",
       "\t& Time & Y\\\\\n",
       "\t\\hline\n",
       "\t& Int64 & Int64\\\\\n",
       "\t\\hline\n",
       "\t1 & 1 & 6 \\\\\n",
       "\t2 & 2 & 11 \\\\\n",
       "\t3 & 3 & 18 \\\\\n",
       "\t4 & 4 & 27 \\\\\n",
       "\t5 & 5 & 38 \\\\\n",
       "\\end{tabular}\n"
      ],
      "text/plain": [
       "\u001b[1m5×2 DataFrame\u001b[0m\n",
       "\u001b[1m Row \u001b[0m│\u001b[1m Time  \u001b[0m\u001b[1m Y     \u001b[0m\n",
       "\u001b[1m     \u001b[0m│\u001b[90m Int64 \u001b[0m\u001b[90m Int64 \u001b[0m\n",
       "─────┼──────────────\n",
       "   1 │     1      6\n",
       "   2 │     2     11\n",
       "   3 │     3     18\n",
       "   4 │     4     27\n",
       "   5 │     5     38"
      ]
     },
     "execution_count": 30,
     "metadata": {},
     "output_type": "execute_result"
    }
   ],
   "source": [
    "using DataFrames\n",
    "t = collect(1:5);\n",
    "Y = 3 .+ 2t .+ t .^ 2\n",
    "df = DataFrame(:Time => t, :Y => Y) # or DataFrame(\"Time\" => t, \"Y\" => Y);\n",
    "df"
   ]
  },
  {
   "cell_type": "code",
   "execution_count": 31,
   "id": "5ca629e3",
   "metadata": {},
   "outputs": [
    {
     "data": {
      "text/plain": [
       "DataFrame"
      ]
     },
     "execution_count": 31,
     "metadata": {},
     "output_type": "execute_result"
    }
   ],
   "source": [
    "typeof(df)"
   ]
  },
  {
   "cell_type": "markdown",
   "id": "68dcb663",
   "metadata": {},
   "source": [
    "說明：\n",
    "```julia\n",
    "df = DataFrame(:Time => t, :Y => Y)\n",
    "```\n",
    "是透過 `DataFrame` 型別的其中一個建構子(constructor) `DataFrame(pairs::Pair...; makeunique::Bool=false, copycols::Bool=true)`所建構。`methods(DataFrame)` 可以查到`DataFrame`所有的建構子。我們可以把建構子想成與型別名稱相同的函式。"
   ]
  },
  {
   "cell_type": "markdown",
   "id": "85bf212c",
   "metadata": {
    "slideshow": {
     "slide_type": "slide"
    }
   },
   "source": [
    "### 舉一反三\n",
    "`String(:X)` 是透過 `String` 型別下的一個接受符號(Symbol)類別 `:X` 為輸入的建構子，建構字串`\"X\"`這個物件。"
   ]
  },
  {
   "cell_type": "code",
   "execution_count": 32,
   "id": "f269baf6",
   "metadata": {},
   "outputs": [
    {
     "data": {
      "text/plain": [
       "\"X\""
      ]
     },
     "execution_count": 32,
     "metadata": {},
     "output_type": "execute_result"
    }
   ],
   "source": [
    "String(:X)"
   ]
  },
  {
   "cell_type": "code",
   "execution_count": 33,
   "id": "6f22fa49",
   "metadata": {
    "scrolled": true
   },
   "outputs": [
    {
     "data": {
      "text/plain": [
       ":X"
      ]
     },
     "execution_count": 33,
     "metadata": {},
     "output_type": "execute_result"
    }
   ],
   "source": [
    "Symbol(\"X\")"
   ]
  },
  {
   "cell_type": "markdown",
   "id": "411cb38b",
   "metadata": {},
   "source": [
    "我們常常可以用型別建構子將物件\"轉換\"成我們想要的類型。"
   ]
  },
  {
   "cell_type": "code",
   "execution_count": 34,
   "id": "3fa76ae6",
   "metadata": {},
   "outputs": [
    {
     "data": {
      "text/plain": [
       "(1.0, 7.0)"
      ]
     },
     "execution_count": 34,
     "metadata": {},
     "output_type": "execute_result"
    }
   ],
   "source": [
    "x0 = 1.1; x1 = 7.63;\n",
    "id0, id1 = floor(x0), floor(x1) # 同 matlab 的 floor"
   ]
  },
  {
   "cell_type": "code",
   "execution_count": 35,
   "id": "bac44f26",
   "metadata": {},
   "outputs": [
    {
     "data": {
      "text/plain": [
       "1.0:1.0:7.0"
      ]
     },
     "execution_count": 35,
     "metadata": {},
     "output_type": "execute_result"
    }
   ],
   "source": [
    "id0:id1"
   ]
  },
  {
   "cell_type": "code",
   "execution_count": 36,
   "id": "7fbf7a5c",
   "metadata": {},
   "outputs": [
    {
     "data": {
      "text/plain": [
       "1:7"
      ]
     },
     "execution_count": 36,
     "metadata": {},
     "output_type": "execute_result"
    }
   ],
   "source": [
    "Int64(id0):Int64(id1)"
   ]
  },
  {
   "cell_type": "markdown",
   "id": "1681310d",
   "metadata": {
    "slideshow": {
     "slide_type": "slide"
    }
   },
   "source": [
    "# 容器"
   ]
  },
  {
   "cell_type": "markdown",
   "id": "5acf337d",
   "metadata": {
    "slideshow": {
     "slide_type": "-"
    }
   },
   "source": [
    "## 陣列 (Array)\n",
    "- 向量(`Vector{DataType}`=`Array{DataType,1}`)\n",
    "- 矩陣(`Matrix{DataType}`=`Array{DataType,2}`)\n",
    "\n",
    "⚠️ 注意：\n",
    "- 不像matlab，julia的範圍(Range)、向量、矩陣分別屬於不一樣的型別\n",
    "- julia的範圍(e.g., `1:10`)只記載了起始、終止和間隔這三項資訊，需要透過`collect()`才能變成向量。例如:"
   ]
  },
  {
   "cell_type": "code",
   "execution_count": 37,
   "id": "7c538322",
   "metadata": {
    "scrolled": true
   },
   "outputs": [
    {
     "data": {
      "text/plain": [
       "1:5"
      ]
     },
     "execution_count": 37,
     "metadata": {},
     "output_type": "execute_result"
    }
   ],
   "source": [
    "x = 1:5"
   ]
  },
  {
   "cell_type": "code",
   "execution_count": 38,
   "id": "c120b1f0",
   "metadata": {},
   "outputs": [
    {
     "data": {
      "text/plain": [
       "5-element Vector{Int64}:\n",
       " 1\n",
       " 2\n",
       " 3\n",
       " 4\n",
       " 5"
      ]
     },
     "execution_count": 38,
     "metadata": {},
     "output_type": "execute_result"
    }
   ],
   "source": [
    "v = collect(x)"
   ]
  },
  {
   "cell_type": "code",
   "execution_count": 39,
   "id": "6af4b7d4",
   "metadata": {
    "scrolled": true
   },
   "outputs": [
    {
     "data": {
      "text/plain": [
       "Vector{Float64} (alias for Array{Float64, 1})"
      ]
     },
     "execution_count": 39,
     "metadata": {},
     "output_type": "execute_result"
    }
   ],
   "source": [
    "typeof([1.0,2.0,3.0])"
   ]
  },
  {
   "cell_type": "code",
   "execution_count": 40,
   "id": "1203bb4e",
   "metadata": {},
   "outputs": [
    {
     "data": {
      "text/plain": [
       "Matrix{Int64} (alias for Array{Int64, 2})"
      ]
     },
     "execution_count": 40,
     "metadata": {},
     "output_type": "execute_result"
    }
   ],
   "source": [
    "typeof([1 2; 3 4])"
   ]
  },
  {
   "cell_type": "code",
   "execution_count": 41,
   "id": "a4770da5",
   "metadata": {
    "scrolled": false
   },
   "outputs": [
    {
     "data": {
      "text/plain": [
       "UnitRange{Int64}"
      ]
     },
     "execution_count": 41,
     "metadata": {},
     "output_type": "execute_result"
    }
   ],
   "source": [
    "typeof(1:5)"
   ]
  },
  {
   "cell_type": "code",
   "execution_count": 42,
   "id": "5c0badff",
   "metadata": {},
   "outputs": [
    {
     "data": {
      "text/plain": [
       "Vector{Int64} (alias for Array{Int64, 1})"
      ]
     },
     "execution_count": 42,
     "metadata": {},
     "output_type": "execute_result"
    }
   ],
   "source": [
    "typeof(collect(1:5))"
   ]
  },
  {
   "cell_type": "markdown",
   "id": "fdda54b8",
   "metadata": {},
   "source": [
    "⚠️ 注意：陣列(Array) 是可變的(mutable)。這時候 `v1 = v` 相當於將新變數名(v1)指向舊變數(v)。如果想要複製變數，請用 `copy` (e.g., `v1 = copy(v)`)。"
   ]
  },
  {
   "cell_type": "code",
   "execution_count": 43,
   "id": "7c486c9c",
   "metadata": {},
   "outputs": [
    {
     "data": {
      "text/plain": [
       "5-element Vector{Int64}:\n",
       " 1\n",
       " 2\n",
       " 3\n",
       " 4\n",
       " 5"
      ]
     },
     "execution_count": 43,
     "metadata": {},
     "output_type": "execute_result"
    }
   ],
   "source": [
    "v1 = v"
   ]
  },
  {
   "cell_type": "code",
   "execution_count": 44,
   "id": "02b79c5e",
   "metadata": {
    "scrolled": true
   },
   "outputs": [
    {
     "data": {
      "text/plain": [
       "5-element Vector{Int64}:\n",
       "  1\n",
       "  2\n",
       "  3\n",
       "  4\n",
       " 99"
      ]
     },
     "execution_count": 44,
     "metadata": {},
     "output_type": "execute_result"
    }
   ],
   "source": [
    "v1[end] = 99; v1"
   ]
  },
  {
   "cell_type": "code",
   "execution_count": 45,
   "id": "301308bb",
   "metadata": {},
   "outputs": [
    {
     "data": {
      "text/plain": [
       "5-element Vector{Int64}:\n",
       "  1\n",
       "  2\n",
       "  3\n",
       "  4\n",
       " 99"
      ]
     },
     "execution_count": 45,
     "metadata": {},
     "output_type": "execute_result"
    }
   ],
   "source": [
    "v"
   ]
  },
  {
   "cell_type": "markdown",
   "id": "96358e04",
   "metadata": {
    "slideshow": {
     "slide_type": "slide"
    }
   },
   "source": [
    "## 集合 (Collection)\n",
    "- 數組(`Tuple`)\n",
    "- 字典(`Dict`)\n",
    "- 配對(`Pair`)\n",
    "- 集合(`Set`)"
   ]
  },
  {
   "cell_type": "markdown",
   "id": "ee1767b0",
   "metadata": {
    "slideshow": {
     "slide_type": "slide"
    }
   },
   "source": [
    "### 數組 (Tuple)\n",
    "\n",
    "- 數組的建立是使用小括號和逗號分隔的元素，可以是由不同型別的元素組成。\n",
    "\n",
    "- 數組是不可變的 (immutable)，所以建立後元素值是不能被改變的，也無法再增加元素。"
   ]
  },
  {
   "cell_type": "code",
   "execution_count": 46,
   "id": "e499e282",
   "metadata": {},
   "outputs": [
    {
     "data": {
      "text/plain": [
       "(1, 2, \"b\")"
      ]
     },
     "execution_count": 46,
     "metadata": {},
     "output_type": "execute_result"
    }
   ],
   "source": [
    "a = (1,2,\"b\")"
   ]
  },
  {
   "cell_type": "code",
   "execution_count": 47,
   "id": "a03452cd",
   "metadata": {},
   "outputs": [
    {
     "data": {
      "text/plain": [
       "true"
      ]
     },
     "execution_count": 47,
     "metadata": {},
     "output_type": "execute_result"
    }
   ],
   "source": [
    "\"b\" in a # the same as in(\"b\", a)"
   ]
  },
  {
   "cell_type": "code",
   "execution_count": 48,
   "id": "4a7574b0",
   "metadata": {
    "scrolled": true
   },
   "outputs": [
    {
     "data": {
      "text/plain": [
       "\"b\""
      ]
     },
     "execution_count": 48,
     "metadata": {},
     "output_type": "execute_result"
    }
   ],
   "source": [
    "a[3]"
   ]
  },
  {
   "cell_type": "markdown",
   "id": "a485106f",
   "metadata": {
    "slideshow": {
     "slide_type": "slide"
    }
   },
   "source": [
    "### 配對(Pair)\n",
    "\n",
    "Pair 型別是用來建立 key / value 兩種物件對應的型別，**Pair 也是不可變的 (immutable)**。Pair 的建立可以透過建構子或是 `key=>value` 語法建立。"
   ]
  },
  {
   "cell_type": "code",
   "execution_count": 49,
   "id": "746dc2bb",
   "metadata": {},
   "outputs": [
    {
     "data": {
      "text/plain": [
       "\"key1\" => 1"
      ]
     },
     "execution_count": 49,
     "metadata": {},
     "output_type": "execute_result"
    }
   ],
   "source": [
    "# 透過 Pair constructor 建立\n",
    "a = Pair(\"key1\", 1)"
   ]
  },
  {
   "cell_type": "code",
   "execution_count": 50,
   "id": "84f2c9b8",
   "metadata": {},
   "outputs": [
    {
     "data": {
      "text/plain": [
       "\"key1\" => 1"
      ]
     },
     "execution_count": 50,
     "metadata": {},
     "output_type": "execute_result"
    }
   ],
   "source": [
    "# 透過 key=>value 語法建立 Pair\n",
    "a = \"key1\"=> 1"
   ]
  },
  {
   "cell_type": "code",
   "execution_count": 51,
   "id": "c1f70c5f",
   "metadata": {
    "scrolled": true
   },
   "outputs": [
    {
     "name": "stdout",
     "output_type": "stream",
     "text": [
      "key1\n",
      "1\n"
     ]
    }
   ],
   "source": [
    "for p in a\n",
    "    println(p)\n",
    "end"
   ]
  },
  {
   "cell_type": "markdown",
   "id": "7ae00844",
   "metadata": {
    "slideshow": {
     "slide_type": "slide"
    }
   },
   "source": [
    "### 字典(Dict)\n",
    "可以透過數組或配對來建立字典"
   ]
  },
  {
   "cell_type": "code",
   "execution_count": 52,
   "id": "3120ee57",
   "metadata": {},
   "outputs": [
    {
     "data": {
      "text/plain": [
       "Dict{String, Int64} with 3 entries:\n",
       "  \"B\" => 2\n",
       "  \"A\" => 1\n",
       "  \"C\" => 3"
      ]
     },
     "execution_count": 52,
     "metadata": {},
     "output_type": "execute_result"
    }
   ],
   "source": [
    "a = Dict([(\"A\", 1), (\"B\", 2), (\"C\", 3)])"
   ]
  },
  {
   "cell_type": "code",
   "execution_count": 53,
   "id": "60067982",
   "metadata": {},
   "outputs": [
    {
     "data": {
      "text/plain": [
       "Dict{String, Int64} with 3 entries:\n",
       "  \"B\" => 2\n",
       "  \"A\" => 1\n",
       "  \"C\" => 3"
      ]
     },
     "execution_count": 53,
     "metadata": {},
     "output_type": "execute_result"
    }
   ],
   "source": [
    "a = Dict(\"A\"=> 1, \"B\"=> 2, \"C\"=> 3)"
   ]
  },
  {
   "cell_type": "code",
   "execution_count": 54,
   "id": "a6cd6469",
   "metadata": {},
   "outputs": [
    {
     "name": "stdout",
     "output_type": "stream",
     "text": [
      "B is 2\n",
      "A is 1\n",
      "C is 3\n"
     ]
    }
   ],
   "source": [
    "for (key, value) in a\n",
    "    println(\"$key is $value\")\n",
    "end"
   ]
  },
  {
   "cell_type": "markdown",
   "id": "0c1d8fe3",
   "metadata": {},
   "source": [
    "新增條目"
   ]
  },
  {
   "cell_type": "code",
   "execution_count": 55,
   "id": "197053db",
   "metadata": {},
   "outputs": [
    {
     "data": {
      "text/plain": [
       "4"
      ]
     },
     "execution_count": 55,
     "metadata": {},
     "output_type": "execute_result"
    }
   ],
   "source": [
    "a[\"D\"] = 4"
   ]
  },
  {
   "cell_type": "markdown",
   "id": "d10113cf",
   "metadata": {},
   "source": [
    "#### 關於字典的常用方法\n",
    "- `delete!`\n",
    "- `pop!`, `popfirst!`\n",
    "- `keys`, `values`\n",
    "- `haskey`\n",
    "> 💡在julia REPL 輸入 ?<關鍵字> 獲得幫助!"
   ]
  },
  {
   "cell_type": "markdown",
   "id": "c8e07de8",
   "metadata": {
    "slideshow": {
     "slide_type": "slide"
    }
   },
   "source": [
    "### 集合(Set)\n",
    "- Set 元素是**沒有順序**的。\n",
    "- Set 中的**元素不重覆**，如果重覆的話只會保留一個。"
   ]
  },
  {
   "cell_type": "code",
   "execution_count": 56,
   "id": "69ab2401",
   "metadata": {},
   "outputs": [
    {
     "data": {
      "text/plain": [
       "Set{Int64} with 6 elements:\n",
       "  5\n",
       "  4\n",
       "  6\n",
       "  2\n",
       "  3\n",
       "  1"
      ]
     },
     "execution_count": 56,
     "metadata": {},
     "output_type": "execute_result"
    }
   ],
   "source": [
    "a = Set([1, 2, 3, 4, 5, 5, 6])"
   ]
  },
  {
   "cell_type": "code",
   "execution_count": 57,
   "id": "a6ce6fed",
   "metadata": {},
   "outputs": [
    {
     "data": {
      "text/plain": [
       "true"
      ]
     },
     "execution_count": 57,
     "metadata": {},
     "output_type": "execute_result"
    }
   ],
   "source": [
    "4 in a"
   ]
  },
  {
   "cell_type": "markdown",
   "id": "0445f247",
   "metadata": {},
   "source": [
    "聯集"
   ]
  },
  {
   "cell_type": "code",
   "execution_count": 58,
   "id": "94ca35db",
   "metadata": {},
   "outputs": [
    {
     "data": {
      "text/plain": [
       "Set{Int64} with 3 elements:\n",
       "  5\n",
       "  3\n",
       "  1"
      ]
     },
     "execution_count": 58,
     "metadata": {},
     "output_type": "execute_result"
    }
   ],
   "source": [
    "b = Set([1, 3, 5])"
   ]
  },
  {
   "cell_type": "code",
   "execution_count": 59,
   "id": "4bc774ef",
   "metadata": {
    "scrolled": false
   },
   "outputs": [
    {
     "data": {
      "text/plain": [
       "Set{Int64} with 6 elements:\n",
       "  5\n",
       "  4\n",
       "  6\n",
       "  2\n",
       "  3\n",
       "  1"
      ]
     },
     "execution_count": 59,
     "metadata": {},
     "output_type": "execute_result"
    }
   ],
   "source": [
    "union(a, b)"
   ]
  },
  {
   "cell_type": "markdown",
   "id": "c5dcff7f",
   "metadata": {},
   "source": [
    "#### 關於Set的常用方法\n",
    "- `union` or `∪` (LaTeX 語法為 \\cup)\n",
    "- `intersect` or `∩` (LaTeX 語法為 \\cap)\n",
    "- `in` or `∈` (LaTeX 語法為 \\in)\n",
    "- `setdiff` \n",
    "- `issubset` or `⊆` (LaTeX 語法為 \\subseteq)"
   ]
  },
  {
   "cell_type": "code",
   "execution_count": 60,
   "id": "b679c517",
   "metadata": {
    "scrolled": true
   },
   "outputs": [
    {
     "data": {
      "text/plain": [
       "Set{Int64} with 3 elements:\n",
       "  5\n",
       "  3\n",
       "  1"
      ]
     },
     "execution_count": 60,
     "metadata": {},
     "output_type": "execute_result"
    }
   ],
   "source": [
    "a ∩ b"
   ]
  },
  {
   "cell_type": "markdown",
   "id": "be3eb9c7",
   "metadata": {
    "slideshow": {
     "slide_type": "slide"
    }
   },
   "source": [
    "# 條件與迴圈\n",
    "## 條件\n",
    "兩個條件判斷：\n",
    "```julia\n",
    "if 條件式\n",
    "    運算式\n",
    "else\n",
    "    運算式\n",
    "end\n",
    "```\n",
    "\n",
    "多個條件判斷：\n",
    "```julia\n",
    "if 條件式\n",
    "    運算式\n",
    "elseif 條件式\n",
    "    運算式\n",
    "else\n",
    "    運算式\n",
    "end\n",
    "```"
   ]
  },
  {
   "cell_type": "markdown",
   "id": "3ec47056",
   "metadata": {},
   "source": [
    "比較特別的是 `if ... end` 本身會回傳值"
   ]
  },
  {
   "cell_type": "code",
   "execution_count": 61,
   "id": "fb6c3462",
   "metadata": {},
   "outputs": [
    {
     "name": "stdout",
     "output_type": "stream",
     "text": [
      "x is positive!\n"
     ]
    }
   ],
   "source": [
    "function foo(x)\n",
    "    if x > 0\n",
    "        \"positive!\"\n",
    "    elseif x == 0\n",
    "        \"zero\"\n",
    "    else\n",
    "        \"negative...\"\n",
    "    end\n",
    "end\n",
    "\n",
    "println(\"x is \", foo(3))"
   ]
  },
  {
   "cell_type": "markdown",
   "id": "7a6aa210",
   "metadata": {
    "slideshow": {
     "slide_type": "slide"
    }
   },
   "source": [
    "## 迴圈\n",
    "### 預分配(preallocate)\n",
    "Julia 的預分配邏輯跟 matlab 或其他程式語言相似：在迴圈外先定義好輸出向量，再將向量丟進去運算會大幅減少對記憶體進行操作的時間。"
   ]
  },
  {
   "cell_type": "code",
   "execution_count": 62,
   "id": "6dac8dee",
   "metadata": {},
   "outputs": [],
   "source": [
    "using BenchmarkTools"
   ]
  },
  {
   "cell_type": "code",
   "execution_count": 63,
   "id": "4286dd1a",
   "metadata": {},
   "outputs": [
    {
     "data": {
      "text/plain": [
       "BenchmarkTools.Trial: 10000 samples with 1 evaluation.\n",
       " Range \u001b[90m(\u001b[39m\u001b[36m\u001b[1mmin\u001b[22m\u001b[39m … \u001b[35mmax\u001b[39m\u001b[90m):  \u001b[39m\u001b[36m\u001b[1m 9.900 μs\u001b[22m\u001b[39m … \u001b[35m  3.800 ms\u001b[39m  \u001b[90m┊\u001b[39m GC \u001b[90m(\u001b[39mmin … max\u001b[90m): \u001b[39m 0.00% … 98.33%\n",
       " Time  \u001b[90m(\u001b[39m\u001b[34m\u001b[1mmedian\u001b[22m\u001b[39m\u001b[90m):     \u001b[39m\u001b[34m\u001b[1m55.700 μs               \u001b[22m\u001b[39m\u001b[90m┊\u001b[39m GC \u001b[90m(\u001b[39mmedian\u001b[90m):    \u001b[39m 0.00%\n",
       " Time  \u001b[90m(\u001b[39m\u001b[32m\u001b[1mmean\u001b[22m\u001b[39m ± \u001b[32mσ\u001b[39m\u001b[90m):   \u001b[39m\u001b[32m\u001b[1m51.169 μs\u001b[22m\u001b[39m ± \u001b[32m147.217 μs\u001b[39m  \u001b[90m┊\u001b[39m GC \u001b[90m(\u001b[39mmean ± σ\u001b[90m):  \u001b[39m16.02% ±  5.67%\n",
       "\n",
       "  \u001b[39m \u001b[39m \u001b[39m▇\u001b[39m█\u001b[39m \u001b[39m \u001b[39m \u001b[39m \u001b[39m \u001b[39m \u001b[39m \u001b[39m \u001b[39m \u001b[39m \u001b[39m \u001b[39m \u001b[39m \u001b[39m \u001b[39m \u001b[39m \u001b[39m \u001b[39m \u001b[39m \u001b[39m \u001b[39m \u001b[39m \u001b[39m \u001b[39m \u001b[32m \u001b[39m\u001b[39m \u001b[39m▄\u001b[34m█\u001b[39m\u001b[39m▄\u001b[39m \u001b[39m \u001b[39m \u001b[39m \u001b[39m \u001b[39m \u001b[39m \u001b[39m \u001b[39m \u001b[39m \u001b[39m \u001b[39m \u001b[39m \u001b[39m \u001b[39m \u001b[39m \u001b[39m \u001b[39m \u001b[39m \u001b[39m \u001b[39m \u001b[39m \u001b[39m \u001b[39m \u001b[39m \u001b[39m \u001b[39m \u001b[39m \u001b[39m \n",
       "  \u001b[39m▃\u001b[39m▃\u001b[39m█\u001b[39m█\u001b[39m▅\u001b[39m▆\u001b[39m▄\u001b[39m▃\u001b[39m▂\u001b[39m▂\u001b[39m▂\u001b[39m▂\u001b[39m▂\u001b[39m▂\u001b[39m▂\u001b[39m▂\u001b[39m▂\u001b[39m▂\u001b[39m▂\u001b[39m▂\u001b[39m▂\u001b[39m▂\u001b[39m▂\u001b[39m▂\u001b[39m▂\u001b[39m▂\u001b[39m▁\u001b[39m▂\u001b[32m▂\u001b[39m\u001b[39m▆\u001b[39m█\u001b[34m█\u001b[39m\u001b[39m█\u001b[39m█\u001b[39m▆\u001b[39m▅\u001b[39m▄\u001b[39m▃\u001b[39m▃\u001b[39m▃\u001b[39m▃\u001b[39m▂\u001b[39m▂\u001b[39m▂\u001b[39m▂\u001b[39m▂\u001b[39m▂\u001b[39m▂\u001b[39m▂\u001b[39m▂\u001b[39m▂\u001b[39m▂\u001b[39m▂\u001b[39m▂\u001b[39m▂\u001b[39m▂\u001b[39m▂\u001b[39m▂\u001b[39m▂\u001b[39m▂\u001b[39m \u001b[39m▃\n",
       "  9.9 μs\u001b[90m          Histogram: frequency by time\u001b[39m         99.3 μs \u001b[0m\u001b[1m<\u001b[22m\n",
       "\n",
       " Memory estimate\u001b[90m: \u001b[39m\u001b[33m156.41 KiB\u001b[39m, allocs estimate\u001b[90m: \u001b[39m\u001b[33m4\u001b[39m."
      ]
     },
     "execution_count": 63,
     "metadata": {},
     "output_type": "execute_result"
    }
   ],
   "source": [
    "@benchmark let\n",
    "    n = 10000;\n",
    "\tA = collect(1:n)\n",
    "\tanswer = fill(NaN, n); # 類似 matlab 的 nan(n,1)\n",
    "\tfor i = 1:5\n",
    "\t\tA_i = A[i];\n",
    "\t\tanswer[i] = A_i^2;\n",
    "\tend\n",
    "end"
   ]
  },
  {
   "cell_type": "code",
   "execution_count": 64,
   "id": "080981d1",
   "metadata": {},
   "outputs": [
    {
     "data": {
      "text/plain": [
       "BenchmarkTools.Trial: 2 samples with 1 evaluation.\n",
       " Range \u001b[90m(\u001b[39m\u001b[36m\u001b[1mmin\u001b[22m\u001b[39m … \u001b[35mmax\u001b[39m\u001b[90m):  \u001b[39m\u001b[36m\u001b[1m4.384 s\u001b[22m\u001b[39m … \u001b[35m   4.690 s\u001b[39m  \u001b[90m┊\u001b[39m GC \u001b[90m(\u001b[39mmin … max\u001b[90m): \u001b[39m17.38% … 20.83%\n",
       " Time  \u001b[90m(\u001b[39m\u001b[34m\u001b[1mmedian\u001b[22m\u001b[39m\u001b[90m):     \u001b[39m\u001b[34m\u001b[1m4.537 s               \u001b[22m\u001b[39m\u001b[90m┊\u001b[39m GC \u001b[90m(\u001b[39mmedian\u001b[90m):    \u001b[39m19.16%\n",
       " Time  \u001b[90m(\u001b[39m\u001b[32m\u001b[1mmean\u001b[22m\u001b[39m ± \u001b[32mσ\u001b[39m\u001b[90m):   \u001b[39m\u001b[32m\u001b[1m4.537 s\u001b[22m\u001b[39m ± \u001b[32m216.310 ms\u001b[39m  \u001b[90m┊\u001b[39m GC \u001b[90m(\u001b[39mmean ± σ\u001b[90m):  \u001b[39m19.16% ±  2.44%\n",
       "\n",
       "  \u001b[34m█\u001b[39m\u001b[39m \u001b[39m \u001b[39m \u001b[39m \u001b[39m \u001b[39m \u001b[39m \u001b[39m \u001b[39m \u001b[39m \u001b[39m \u001b[39m \u001b[39m \u001b[39m \u001b[39m \u001b[39m \u001b[39m \u001b[39m \u001b[39m \u001b[39m \u001b[39m \u001b[39m \u001b[39m \u001b[39m \u001b[39m \u001b[39m \u001b[39m \u001b[39m \u001b[32m \u001b[39m\u001b[39m \u001b[39m \u001b[39m \u001b[39m \u001b[39m \u001b[39m \u001b[39m \u001b[39m \u001b[39m \u001b[39m \u001b[39m \u001b[39m \u001b[39m \u001b[39m \u001b[39m \u001b[39m \u001b[39m \u001b[39m \u001b[39m \u001b[39m \u001b[39m \u001b[39m \u001b[39m \u001b[39m \u001b[39m \u001b[39m \u001b[39m \u001b[39m█\u001b[39m \u001b[39m \n",
       "  \u001b[34m█\u001b[39m\u001b[39m▁\u001b[39m▁\u001b[39m▁\u001b[39m▁\u001b[39m▁\u001b[39m▁\u001b[39m▁\u001b[39m▁\u001b[39m▁\u001b[39m▁\u001b[39m▁\u001b[39m▁\u001b[39m▁\u001b[39m▁\u001b[39m▁\u001b[39m▁\u001b[39m▁\u001b[39m▁\u001b[39m▁\u001b[39m▁\u001b[39m▁\u001b[39m▁\u001b[39m▁\u001b[39m▁\u001b[39m▁\u001b[39m▁\u001b[39m▁\u001b[39m▁\u001b[32m▁\u001b[39m\u001b[39m▁\u001b[39m▁\u001b[39m▁\u001b[39m▁\u001b[39m▁\u001b[39m▁\u001b[39m▁\u001b[39m▁\u001b[39m▁\u001b[39m▁\u001b[39m▁\u001b[39m▁\u001b[39m▁\u001b[39m▁\u001b[39m▁\u001b[39m▁\u001b[39m▁\u001b[39m▁\u001b[39m▁\u001b[39m▁\u001b[39m▁\u001b[39m▁\u001b[39m▁\u001b[39m▁\u001b[39m▁\u001b[39m▁\u001b[39m▁\u001b[39m█\u001b[39m \u001b[39m▁\n",
       "  4.38 s\u001b[90m         Histogram: frequency by time\u001b[39m         4.69 s \u001b[0m\u001b[1m<\u001b[22m\n",
       "\n",
       " Memory estimate\u001b[90m: \u001b[39m\u001b[33m1.49 GiB\u001b[39m, allocs estimate\u001b[90m: \u001b[39m\u001b[33m49822676\u001b[39m."
      ]
     },
     "execution_count": 64,
     "metadata": {},
     "output_type": "execute_result"
    }
   ],
   "source": [
    "@benchmark let\n",
    "    n = 10000;\n",
    "\tA = collect(1:n)\n",
    "\tanswer = []; \n",
    "\tfor A_i in A\n",
    "\t\tanswer = [answer..., A_i^2]; # 類似 matlab 的 answer = [answer, A_i^2];\n",
    "\tend\n",
    "\tanswer\n",
    "end"
   ]
  },
  {
   "cell_type": "markdown",
   "id": "87dedb2e",
   "metadata": {},
   "source": [
    "julia 有簡單好用的 `push!`，不用預分配也有不錯的速度："
   ]
  },
  {
   "cell_type": "code",
   "execution_count": 65,
   "id": "08f324e5",
   "metadata": {},
   "outputs": [
    {
     "data": {
      "text/plain": [
       "BenchmarkTools.Trial: 6221 samples with 1 evaluation.\n",
       " Range \u001b[90m(\u001b[39m\u001b[36m\u001b[1mmin\u001b[22m\u001b[39m … \u001b[35mmax\u001b[39m\u001b[90m):  \u001b[39m\u001b[36m\u001b[1m279.600 μs\u001b[22m\u001b[39m … \u001b[35m161.751 ms\u001b[39m  \u001b[90m┊\u001b[39m GC \u001b[90m(\u001b[39mmin … max\u001b[90m): \u001b[39m 0.00% … 99.58%\n",
       " Time  \u001b[90m(\u001b[39m\u001b[34m\u001b[1mmedian\u001b[22m\u001b[39m\u001b[90m):     \u001b[39m\u001b[34m\u001b[1m522.300 μs               \u001b[22m\u001b[39m\u001b[90m┊\u001b[39m GC \u001b[90m(\u001b[39mmedian\u001b[90m):    \u001b[39m 0.00%\n",
       " Time  \u001b[90m(\u001b[39m\u001b[32m\u001b[1mmean\u001b[22m\u001b[39m ± \u001b[32mσ\u001b[39m\u001b[90m):   \u001b[39m\u001b[32m\u001b[1m799.168 μs\u001b[22m\u001b[39m ± \u001b[32m  6.094 ms\u001b[39m  \u001b[90m┊\u001b[39m GC \u001b[90m(\u001b[39mmean ± σ\u001b[90m):  \u001b[39m34.77% ±  4.55%\n",
       "\n",
       "  \u001b[39m \u001b[39m \u001b[39m \u001b[39m \u001b[39m \u001b[39m \u001b[39m▁\u001b[39m▄\u001b[39m▆\u001b[39m▁\u001b[39m▁\u001b[39m▄\u001b[39m▂\u001b[39m▁\u001b[39m \u001b[39m \u001b[39m \u001b[39m \u001b[39m▁\u001b[39m▅\u001b[39m \u001b[39m \u001b[39m▃\u001b[34m█\u001b[39m\u001b[39m▆\u001b[39m▄\u001b[39m \u001b[39m \u001b[39m \u001b[39m \u001b[39m▅\u001b[39m▄\u001b[39m \u001b[39m▁\u001b[39m \u001b[39m \u001b[39m \u001b[39m \u001b[39m \u001b[39m \u001b[39m \u001b[39m \u001b[39m \u001b[39m \u001b[39m \u001b[39m \u001b[39m \u001b[39m \u001b[39m \u001b[32m \u001b[39m\u001b[39m \u001b[39m \u001b[39m \u001b[39m \u001b[39m \u001b[39m \u001b[39m \u001b[39m \u001b[39m \u001b[39m \u001b[39m \u001b[39m \u001b[39m \n",
       "  \u001b[39m▂\u001b[39m▃\u001b[39m▃\u001b[39m▃\u001b[39m▃\u001b[39m▄\u001b[39m█\u001b[39m█\u001b[39m█\u001b[39m█\u001b[39m█\u001b[39m█\u001b[39m█\u001b[39m█\u001b[39m▆\u001b[39m▅\u001b[39m█\u001b[39m▆\u001b[39m█\u001b[39m█\u001b[39m▇\u001b[39m▆\u001b[39m█\u001b[34m█\u001b[39m\u001b[39m█\u001b[39m█\u001b[39m▇\u001b[39m▆\u001b[39m▄\u001b[39m▇\u001b[39m█\u001b[39m█\u001b[39m█\u001b[39m█\u001b[39m▆\u001b[39m▅\u001b[39m▄\u001b[39m▅\u001b[39m▄\u001b[39m▅\u001b[39m▅\u001b[39m▃\u001b[39m▃\u001b[39m▂\u001b[39m▂\u001b[39m▂\u001b[39m▂\u001b[39m▂\u001b[39m▂\u001b[32m▁\u001b[39m\u001b[39m▁\u001b[39m▂\u001b[39m▂\u001b[39m▁\u001b[39m▂\u001b[39m▂\u001b[39m▁\u001b[39m▁\u001b[39m▁\u001b[39m▁\u001b[39m▁\u001b[39m \u001b[39m▄\n",
       "  280 μs\u001b[90m           Histogram: frequency by time\u001b[39m          930 μs \u001b[0m\u001b[1m<\u001b[22m\n",
       "\n",
       " Memory estimate\u001b[90m: \u001b[39m\u001b[33m490.75 KiB\u001b[39m, allocs estimate\u001b[90m: \u001b[39m\u001b[33m9994\u001b[39m."
      ]
     },
     "execution_count": 65,
     "metadata": {},
     "output_type": "execute_result"
    }
   ],
   "source": [
    "@benchmark let\n",
    "    n = 10000;\n",
    "\tA = collect(1:n)\n",
    "\tanswer = []; \n",
    "\tfor A_i in A\n",
    "\t\tpush!(answer, A_i^2)\n",
    "\tend\n",
    "\tanswer\n",
    "end"
   ]
  },
  {
   "cell_type": "code",
   "execution_count": 66,
   "id": "c3bb9646",
   "metadata": {},
   "outputs": [
    {
     "data": {
      "text/plain": [
       "BenchmarkTools.Trial: 7364 samples with 1 evaluation.\n",
       " Range \u001b[90m(\u001b[39m\u001b[36m\u001b[1mmin\u001b[22m\u001b[39m … \u001b[35mmax\u001b[39m\u001b[90m):  \u001b[39m\u001b[36m\u001b[1m207.800 μs\u001b[22m\u001b[39m … \u001b[35m184.903 ms\u001b[39m  \u001b[90m┊\u001b[39m GC \u001b[90m(\u001b[39mmin … max\u001b[90m): \u001b[39m 0.00% … 99.76%\n",
       " Time  \u001b[90m(\u001b[39m\u001b[34m\u001b[1mmedian\u001b[22m\u001b[39m\u001b[90m):     \u001b[39m\u001b[34m\u001b[1m442.900 μs               \u001b[22m\u001b[39m\u001b[90m┊\u001b[39m GC \u001b[90m(\u001b[39mmedian\u001b[90m):    \u001b[39m 0.00%\n",
       " Time  \u001b[90m(\u001b[39m\u001b[32m\u001b[1mmean\u001b[22m\u001b[39m ± \u001b[32mσ\u001b[39m\u001b[90m):   \u001b[39m\u001b[32m\u001b[1m555.841 μs\u001b[22m\u001b[39m ± \u001b[32m  5.130 ms\u001b[39m  \u001b[90m┊\u001b[39m GC \u001b[90m(\u001b[39mmean ± σ\u001b[90m):  \u001b[39m26.34% ±  2.85%\n",
       "\n",
       "  \u001b[39m \u001b[39m▁\u001b[39m█\u001b[39m▆\u001b[39m▁\u001b[39m \u001b[39m \u001b[39m▃\u001b[39m▁\u001b[39m \u001b[39m \u001b[39m \u001b[39m \u001b[39m \u001b[39m \u001b[39m \u001b[39m \u001b[39m \u001b[39m \u001b[39m \u001b[39m \u001b[39m \u001b[39m \u001b[39m \u001b[39m \u001b[39m \u001b[39m \u001b[39m \u001b[39m \u001b[39m \u001b[39m \u001b[34m \u001b[39m\u001b[39m \u001b[39m \u001b[39m▁\u001b[39m▁\u001b[39m▃\u001b[39m \u001b[39m \u001b[39m \u001b[39m \u001b[39m \u001b[39m \u001b[39m \u001b[39m▂\u001b[39m \u001b[32m \u001b[39m\u001b[39m \u001b[39m \u001b[39m \u001b[39m \u001b[39m \u001b[39m \u001b[39m \u001b[39m \u001b[39m \u001b[39m \u001b[39m \u001b[39m \u001b[39m \u001b[39m \u001b[39m \u001b[39m \n",
       "  \u001b[39m▃\u001b[39m█\u001b[39m█\u001b[39m█\u001b[39m█\u001b[39m▇\u001b[39m▇\u001b[39m█\u001b[39m█\u001b[39m█\u001b[39m▅\u001b[39m▄\u001b[39m▂\u001b[39m▃\u001b[39m▃\u001b[39m▂\u001b[39m▂\u001b[39m▂\u001b[39m▂\u001b[39m▂\u001b[39m▂\u001b[39m▂\u001b[39m▄\u001b[39m▃\u001b[39m▃\u001b[39m▄\u001b[39m▃\u001b[39m▄\u001b[39m▅\u001b[39m▆\u001b[39m▆\u001b[34m▅\u001b[39m\u001b[39m▅\u001b[39m▇\u001b[39m█\u001b[39m█\u001b[39m█\u001b[39m▇\u001b[39m▅\u001b[39m▅\u001b[39m▇\u001b[39m▇\u001b[39m█\u001b[39m█\u001b[39m█\u001b[39m▇\u001b[32m▆\u001b[39m\u001b[39m▆\u001b[39m▅\u001b[39m▄\u001b[39m▃\u001b[39m▃\u001b[39m▂\u001b[39m▂\u001b[39m▂\u001b[39m▂\u001b[39m▂\u001b[39m▂\u001b[39m▁\u001b[39m▁\u001b[39m▂\u001b[39m \u001b[39m▄\n",
       "  208 μs\u001b[90m           Histogram: frequency by time\u001b[39m          674 μs \u001b[0m\u001b[1m<\u001b[22m\n",
       "\n",
       " Memory estimate\u001b[90m: \u001b[39m\u001b[33m334.84 KiB\u001b[39m, allocs estimate\u001b[90m: \u001b[39m\u001b[33m16\u001b[39m."
      ]
     },
     "execution_count": 66,
     "metadata": {},
     "output_type": "execute_result"
    }
   ],
   "source": [
    "@benchmark let\n",
    "    n = 10000;\n",
    "\tA = collect(1:n)\n",
    "\tanswer = Int64[]; \n",
    "\tfor A_i in A\n",
    "\t\tpush!(answer, A_i^2)\n",
    "\tend\n",
    "\tanswer\n",
    "end"
   ]
  },
  {
   "cell_type": "markdown",
   "id": "03825d21",
   "metadata": {
    "slideshow": {
     "slide_type": "slide"
    }
   },
   "source": [
    "# 操作子"
   ]
  },
  {
   "cell_type": "markdown",
   "id": "f3cec63f",
   "metadata": {},
   "source": [
    "宣告 x 和 y，並將值均指定為 3。"
   ]
  },
  {
   "cell_type": "code",
   "execution_count": 67,
   "id": "fdbe3c5d",
   "metadata": {
    "scrolled": true
   },
   "outputs": [
    {
     "data": {
      "text/plain": [
       "3"
      ]
     },
     "execution_count": 67,
     "metadata": {},
     "output_type": "execute_result"
    }
   ],
   "source": [
    "x = y = 3"
   ]
  },
  {
   "cell_type": "code",
   "execution_count": 68,
   "id": "c7818f82",
   "metadata": {},
   "outputs": [
    {
     "data": {
      "text/plain": [
       "false"
      ]
     },
     "execution_count": 68,
     "metadata": {},
     "output_type": "execute_result"
    }
   ],
   "source": [
    "x > 3 || y >3"
   ]
  },
  {
   "cell_type": "code",
   "execution_count": 69,
   "id": "c9fc9c8e",
   "metadata": {},
   "outputs": [
    {
     "data": {
      "text/plain": [
       "5-element BitVector:\n",
       " 0\n",
       " 0\n",
       " 0\n",
       " 1\n",
       " 1"
      ]
     },
     "execution_count": 69,
     "metadata": {},
     "output_type": "execute_result"
    }
   ],
   "source": [
    "v = collect(1:5) # v = [1,2,3,4,5]\n",
    "v .> 3"
   ]
  },
  {
   "cell_type": "markdown",
   "id": "4da22904",
   "metadata": {
    "slideshow": {
     "slide_type": "slide"
    }
   },
   "source": [
    "# 點運算"
   ]
  },
  {
   "cell_type": "code",
   "execution_count": 70,
   "id": "bb3d5e91",
   "metadata": {},
   "outputs": [
    {
     "data": {
      "text/plain": [
       "f (generic function with 2 methods)"
      ]
     },
     "execution_count": 70,
     "metadata": {},
     "output_type": "execute_result"
    }
   ],
   "source": [
    "function f(x)\n",
    "    x^2 + 3x +1 \n",
    "end"
   ]
  },
  {
   "cell_type": "code",
   "execution_count": 71,
   "id": "130bc6c9",
   "metadata": {},
   "outputs": [
    {
     "data": {
      "text/plain": [
       "19"
      ]
     },
     "execution_count": 71,
     "metadata": {},
     "output_type": "execute_result"
    }
   ],
   "source": [
    "f(3)"
   ]
  },
  {
   "cell_type": "code",
   "execution_count": 72,
   "id": "63174060",
   "metadata": {
    "scrolled": true
   },
   "outputs": [
    {
     "data": {
      "text/plain": [
       "6-element Vector{Int64}:\n",
       "  5\n",
       " 11\n",
       " 19\n",
       " 29\n",
       " 41\n",
       " 55"
      ]
     },
     "execution_count": 72,
     "metadata": {},
     "output_type": "execute_result"
    }
   ],
   "source": [
    "v = [1,2,3,4,5,6];\n",
    "f.(v)"
   ]
  },
  {
   "cell_type": "markdown",
   "id": "e0c4cf47",
   "metadata": {
    "slideshow": {
     "slide_type": "slide"
    }
   },
   "source": [
    "# 小結\n",
    "## 相較於MATLAB，Julia在使用上更須遵守規則，但也更自由\n",
    "例如，\n",
    "- `'HelloWorld'` ➡️ ❌ ERROR: syntax: character literal contains multiple characters\n",
    "- `\"HelloWorld\"` ➡️ ✔️ PASS!\n",
    "- `x = [5, 6, 7]; sin(x)` ➡️ ❌ ERROR: MethodError: no method matching sin(::Vector{Int64})\n",
    "- `x = [5, 6, 7]; sin.(x)` ➡️ ✔️ PASS!\n",
    "- `x = [5,6,7]; x > 3` ➡️ ❌ MethodError: no method matching isless(::Int64, ::Vector{Int64})\n",
    "- `x = [5,6,7]; x .> 3` ➡️ ✔️ PASS!\n",
    "- `function f(x) x^2 + 3x +1; end` ➡️ ✔️ PASS!\n",
    "- `a = [1,2,3]; f.(a)` ➡️ ✔️ PASS!\n",
    "- `for i=1:10 print(i) end` ➡️ ✔️ PASS!\n",
    "- `a = [1]; for i = [1.2, 2.3, 3.1] push!(a, i); end` ➡️ ❌ ERROR: InexactError: Int64(1.2)\n",
    "- `a = Float64[1]; for i = [1.2, 2.3, 3.1] push!(a, i); end` ➡️ ✔️ PASS!\n",
    "- `a = [1.0]; for i = [1.2, 2.3, 3.1] push!(a, i); end` ➡️ ✔️ PASS!"
   ]
  },
  {
   "cell_type": "markdown",
   "id": "64c13a26",
   "metadata": {
    "slideshow": {
     "slide_type": "slide"
    }
   },
   "source": [
    "# 作業\n",
    "1. 寫一個`drop`函式，包含兩個方法：\n",
    "- 如果輸入是向量， 把向量的最後一個元素剔除後回傳(不改變原本輸入變數)\n",
    "- 如果輸入是矩陣， 把矩陣的最後一橫列剔除後回傳(不改變原本輸入變數)"
   ]
  },
  {
   "cell_type": "code",
   "execution_count": 73,
   "id": "3682bf69",
   "metadata": {},
   "outputs": [
    {
     "data": {
      "text/plain": [
       "drop (generic function with 2 methods)"
      ]
     },
     "execution_count": 73,
     "metadata": {},
     "output_type": "execute_result"
    }
   ],
   "source": [
    "function drop(v::Vector)\n",
    "    nothing # write your code here!\n",
    "end\n",
    "\n",
    "function drop(m::Matrix)\n",
    "    nothing # write your code here!\n",
    "end"
   ]
  },
  {
   "cell_type": "code",
   "execution_count": 74,
   "id": "51166a3a",
   "metadata": {},
   "outputs": [
    {
     "name": "stdout",
     "output_type": "stream",
     "text": [
      "\u001b[37mTesting drop(v::Vector): \u001b[39m\u001b[91m\u001b[1mTest Failed\u001b[22m\u001b[39m at \u001b[39m\u001b[1mIn[74]:3\u001b[22m\n",
      "  Expression: all([1, 3, 5] .== drop([1, 3, 5, 7]))\n",
      "Stacktrace:\n",
      " [1] \u001b[0m\u001b[1mmacro expansion\u001b[22m\n",
      "\u001b[90m   @ \u001b[39m\u001b[90;4mIn[74]:3\u001b[0m\u001b[90m [inlined]\u001b[39m\n",
      " [2] \u001b[0m\u001b[1mmacro expansion\u001b[22m\n",
      "\u001b[90m   @ \u001b[39m\u001b[90mC:\\buildbot\\worker\\package_win64\\build\\usr\\share\\julia\\stdlib\\v1.6\\Test\\src\\\u001b[39m\u001b[90;4mTest.jl:1151\u001b[0m\u001b[90m [inlined]\u001b[39m\n",
      " [3] top-level scope\n",
      "\u001b[90m   @ \u001b[39m\u001b[90;4mIn[74]:3\u001b[0m\n",
      "\u001b[37mTesting drop(v::Vector): \u001b[39m\u001b[91m\u001b[1mTest Failed\u001b[22m\u001b[39m at \u001b[39m\u001b[1mIn[74]:5\u001b[22m\n",
      "  Expression: all(v2[1:end - 1] .== drop(v2))\n",
      "Stacktrace:\n",
      " [1] \u001b[0m\u001b[1mmacro expansion\u001b[22m\n",
      "\u001b[90m   @ \u001b[39m\u001b[90;4mIn[74]:5\u001b[0m\u001b[90m [inlined]\u001b[39m\n",
      " [2] \u001b[0m\u001b[1mmacro expansion\u001b[22m\n",
      "\u001b[90m   @ \u001b[39m\u001b[90mC:\\buildbot\\worker\\package_win64\\build\\usr\\share\\julia\\stdlib\\v1.6\\Test\\src\\\u001b[39m\u001b[90;4mTest.jl:1151\u001b[0m\u001b[90m [inlined]\u001b[39m\n",
      " [3] top-level scope\n",
      "\u001b[90m   @ \u001b[39m\u001b[90;4mIn[74]:3\u001b[0m\n",
      "\u001b[37m\u001b[1mTest Summary:           | \u001b[22m\u001b[39m\u001b[91m\u001b[1mFail  \u001b[22m\u001b[39m\u001b[36m\u001b[1mTotal\u001b[22m\u001b[39m\n",
      "Testing drop(v::Vector) | \u001b[91m   2  \u001b[39m\u001b[36m    2\u001b[39m\n"
     ]
    },
    {
     "ename": "LoadError",
     "evalue": "\u001b[91mSome tests did not pass: 0 passed, 2 failed, 0 errored, 0 broken.\u001b[39m",
     "output_type": "error",
     "traceback": [
      "\u001b[91mSome tests did not pass: 0 passed, 2 failed, 0 errored, 0 broken.\u001b[39m",
      "",
      "Stacktrace:",
      " [1] finish(ts::Test.DefaultTestSet)",
      "   @ Test C:\\buildbot\\worker\\package_win64\\build\\usr\\share\\julia\\stdlib\\v1.6\\Test\\src\\Test.jl:913",
      " [2] macro expansion",
      "   @ C:\\buildbot\\worker\\package_win64\\build\\usr\\share\\julia\\stdlib\\v1.6\\Test\\src\\Test.jl:1161 [inlined]",
      " [3] top-level scope",
      "   @ In[74]:3",
      " [4] eval",
      "   @ .\\boot.jl:360 [inlined]",
      " [5] include_string(mapexpr::typeof(REPL.softscope), mod::Module, code::String, filename::String)",
      "   @ Base .\\loading.jl:1094"
     ]
    }
   ],
   "source": [
    "using Test\n",
    "@testset \"Testing drop(v::Vector)\" begin\n",
    "    @test all([1,3,5] .== drop([1,3,5,7]))\n",
    "    v2 = rand(5);\n",
    "    @test all(v2[1:end-1] .== drop(v2))\n",
    "end\n",
    "\n",
    "@testset \"Testing drop(v::Matrix)\" begin\n",
    "    m1 = randn(3,2);\n",
    "    @test all(drop(m1) .== m1[1:end-1, :])\n",
    "end"
   ]
  },
  {
   "cell_type": "markdown",
   "id": "9d974ee0",
   "metadata": {},
   "source": [
    "2. 寫一個`lastnan!`函式，包含2個方法：\n",
    "- 把向量的最後一個元素改成NaN\n",
    "- 把向量的最後一列元素都改成NaN"
   ]
  },
  {
   "cell_type": "code",
   "execution_count": 75,
   "id": "d19087bc",
   "metadata": {},
   "outputs": [
    {
     "data": {
      "text/plain": [
       "lastnan! (generic function with 2 methods)"
      ]
     },
     "execution_count": 75,
     "metadata": {},
     "output_type": "execute_result"
    }
   ],
   "source": [
    "function lastnan!(v::Vector)\n",
    "    nothing # write your code here!\n",
    "end\n",
    "\n",
    "function lastnan!(v::Matrix)\n",
    "    nothing # write your code here!\n",
    "end"
   ]
  },
  {
   "cell_type": "code",
   "execution_count": 76,
   "id": "79e6ca72",
   "metadata": {},
   "outputs": [
    {
     "name": "stdout",
     "output_type": "stream",
     "text": [
      "\u001b[37mTesting lastnan!(v::Vector): \u001b[39m\u001b[91m\u001b[1mTest Failed\u001b[22m\u001b[39m at \u001b[39m\u001b[1mIn[76]:6\u001b[22m\n",
      "  Expression: isnan(v[end])\n",
      "Stacktrace:\n",
      " [1] \u001b[0m\u001b[1mmacro expansion\u001b[22m\n",
      "\u001b[90m   @ \u001b[39m\u001b[90;4mIn[76]:6\u001b[0m\u001b[90m [inlined]\u001b[39m\n",
      " [2] \u001b[0m\u001b[1mmacro expansion\u001b[22m\n",
      "\u001b[90m   @ \u001b[39m\u001b[90mC:\\buildbot\\worker\\package_win64\\build\\usr\\share\\julia\\stdlib\\v1.6\\Test\\src\\\u001b[39m\u001b[90;4mTest.jl:1151\u001b[0m\u001b[90m [inlined]\u001b[39m\n",
      " [3] top-level scope\n",
      "\u001b[90m   @ \u001b[39m\u001b[90;4mIn[76]:2\u001b[0m\n",
      "\u001b[37m\u001b[1mTest Summary:               | \u001b[22m\u001b[39m\u001b[32m\u001b[1mPass  \u001b[22m\u001b[39m\u001b[91m\u001b[1mFail  \u001b[22m\u001b[39m\u001b[36m\u001b[1mTotal\u001b[22m\u001b[39m\n",
      "Testing lastnan!(v::Vector) | \u001b[32m   1  \u001b[39m\u001b[91m   1  \u001b[39m\u001b[36m    2\u001b[39m\n"
     ]
    },
    {
     "ename": "LoadError",
     "evalue": "\u001b[91mSome tests did not pass: 1 passed, 1 failed, 0 errored, 0 broken.\u001b[39m",
     "output_type": "error",
     "traceback": [
      "\u001b[91mSome tests did not pass: 1 passed, 1 failed, 0 errored, 0 broken.\u001b[39m",
      "",
      "Stacktrace:",
      " [1] finish(ts::Test.DefaultTestSet)",
      "   @ Test C:\\buildbot\\worker\\package_win64\\build\\usr\\share\\julia\\stdlib\\v1.6\\Test\\src\\Test.jl:913",
      " [2] macro expansion",
      "   @ C:\\buildbot\\worker\\package_win64\\build\\usr\\share\\julia\\stdlib\\v1.6\\Test\\src\\Test.jl:1161 [inlined]",
      " [3] top-level scope",
      "   @ In[76]:2",
      " [4] eval",
      "   @ .\\boot.jl:360 [inlined]",
      " [5] include_string(mapexpr::typeof(REPL.softscope), mod::Module, code::String, filename::String)",
      "   @ Base .\\loading.jl:1094"
     ]
    }
   ],
   "source": [
    "@testset \"Testing lastnan!(v::Vector)\" begin\n",
    "    v = randn(10);\n",
    "    v0 = copy(v);\n",
    "    lastnan!(v)   \n",
    "    @test all(v0[1:end-1] .== v[1:end-1])\n",
    "    @test isnan(v[end])\n",
    "end\n",
    "\n",
    "@testset \"Testing lastnan!(v::Matrix)\" begin\n",
    "    v = randn(10,10);\n",
    "    v0 = copy(v);\n",
    "    lastnan!(v)   \n",
    "    @test all(v0[1:end-1,:] .== v[1:end-1,:])\n",
    "    @test all(isnan.(v[end,:]))\n",
    "end"
   ]
  },
  {
   "cell_type": "code",
   "execution_count": null,
   "id": "a566df28",
   "metadata": {},
   "outputs": [],
   "source": []
  }
 ],
 "metadata": {
  "kernelspec": {
   "display_name": "Julia 1.6.1",
   "language": "julia",
   "name": "julia-1.6"
  },
  "language_info": {
   "file_extension": ".jl",
   "mimetype": "application/julia",
   "name": "julia",
   "version": "1.6.1"
  },
  "toc": {
   "base_numbering": 1,
   "nav_menu": {},
   "number_sections": false,
   "sideBar": true,
   "skip_h1_title": false,
   "title_cell": "Table of Contents",
   "title_sidebar": "Contents",
   "toc_cell": true,
   "toc_position": {},
   "toc_section_display": true,
   "toc_window_display": false
  }
 },
 "nbformat": 4,
 "nbformat_minor": 5
}
