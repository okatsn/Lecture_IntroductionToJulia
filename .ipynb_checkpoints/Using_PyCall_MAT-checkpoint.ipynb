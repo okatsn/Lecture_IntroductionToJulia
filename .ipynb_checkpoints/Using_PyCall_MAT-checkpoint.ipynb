{
 "cells": [
  {
   "cell_type": "code",
   "execution_count": 1,
   "id": "0d88df13",
   "metadata": {},
   "outputs": [],
   "source": [
    "using Pkg\n",
    "Pkg.activate(mktempdir())"
   ]
  },
  {
   "cell_type": "code",
   "execution_count": 2,
   "id": "0cb2dc1f",
   "metadata": {},
   "outputs": [],
   "source": [
    "Pkg.add(\"PyCall\")"
   ]
  },
  {
   "cell_type": "code",
   "execution_count": 5,
   "id": "d00bdf62",
   "metadata": {},
   "outputs": [
    {
     "name": "stdout",
     "output_type": "stream",
     "text": [
      "Hello, Python!\r\n"
     ]
    }
   ],
   "source": [
    "using PyCall\n",
    "# 使用python內建函式\n"
   ]
  },
  {
   "cell_type": "code",
   "execution_count": 6,
   "id": "e69992b9",
   "metadata": {},
   "outputs": [
    {
     "data": {
      "text/plain": [
       "1×3 Matrix{Int64}:\n",
       " 1  2  3"
      ]
     },
     "execution_count": 6,
     "metadata": {},
     "output_type": "execute_result"
    }
   ],
   "source": [
    "# 使用python套件\n",
    "np = pyimport(\"numpy\");\n",
    "np.array([1 2 3])"
   ]
  },
  {
   "cell_type": "code",
   "execution_count": null,
   "id": "5b34bb02",
   "metadata": {},
   "outputs": [],
   "source": []
  }
 ],
 "metadata": {
  "kernelspec": {
   "display_name": "Julia 1.6.1",
   "language": "julia",
   "name": "julia-1.6"
  },
  "language_info": {
   "file_extension": ".jl",
   "mimetype": "application/julia",
   "name": "julia",
   "version": "1.6.1"
  }
 },
 "nbformat": 4,
 "nbformat_minor": 5
}
